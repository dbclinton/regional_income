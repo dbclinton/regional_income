{
 "cells": [
  {
   "cell_type": "code",
   "execution_count": 1,
   "id": "76b1e9fc-1439-4372-8244-2f403b779400",
   "metadata": {},
   "outputs": [],
   "source": [
    "import pandas as pd"
   ]
  },
  {
   "cell_type": "markdown",
   "id": "319912eb-1f2a-4f7a-8901-86226bc6299a",
   "metadata": {},
   "source": [
    "## Family Income Data (2019 ACS):"
   ]
  },
  {
   "cell_type": "code",
   "execution_count": 2,
   "id": "d4b8c916-21e5-49d3-abea-9f8e69d5b602",
   "metadata": {},
   "outputs": [
    {
     "name": "stderr",
     "output_type": "stream",
     "text": [
      "/home/ubuntu/.local/lib/python3.8/site-packages/IPython/core/interactiveshell.py:3441: DtypeWarning: Columns (2,3,34,35,66,67,98,99) have mixed types.Specify dtype option on import or set low_memory=False.\n",
      "  exec(code_obj, self.user_global_ns, self.user_ns)\n"
     ]
    }
   ],
   "source": [
    "df1 = pd.read_csv('CensusIncome.csv')\n",
    "# Select and rename columns of interest:\n",
    "df_income = df1[['NAME','S1901_C01_013E','S1901_C02_013E']]\n",
    "df_income = df_income.drop([0, 0])\n",
    "df_income.rename(columns={'NAME': 'ZCTA','S1901_C01_013E': 'Household_income',\n",
    "                          'S1901_C02_013E': 'Family_income'}, inplace=True)"
   ]
  },
  {
   "cell_type": "code",
   "execution_count": 3,
   "id": "ba4361e4-7ed9-4c47-b1a0-65a670c98e68",
   "metadata": {},
   "outputs": [
    {
     "data": {
      "text/plain": [
       "count     31435.000000\n",
       "mean      90489.174201\n",
       "std       41463.700939\n",
       "min        6461.000000\n",
       "25%       66537.000000\n",
       "50%       80938.000000\n",
       "75%      101635.000000\n",
       "max      594571.000000\n",
       "Name: Family_income, dtype: float64"
      ]
     },
     "execution_count": 3,
     "metadata": {},
     "output_type": "execute_result"
    }
   ],
   "source": [
    "df_income = df_income[~df_income['Household_income'].str.contains(\"N\")]\n",
    "df_income = df_income[~df_income['Household_income'].str.contains(\"-\")]\n",
    "df_income[\"Household_income\"] = df_income[\"Household_income\"].astype(str).astype(float)\n",
    "df_income = df_income[~df_income['Family_income'].str.contains(\"N\")]\n",
    "df_income = df_income[~df_income['Family_income'].str.contains(\"-\")]\n",
    "df_income[\"Family_income\"] = df_income[\"Family_income\"].astype(str).astype(float)\n",
    "df_income[\"Family_income\"].describe()"
   ]
  },
  {
   "cell_type": "code",
   "execution_count": 4,
   "id": "9162b41d-e347-4fd4-9277-22e8c901f7a7",
   "metadata": {},
   "outputs": [
    {
     "data": {
      "text/plain": [
       "count     31435.000000\n",
       "mean      77907.536949\n",
       "std       34622.791868\n",
       "min        7293.000000\n",
       "25%       57577.500000\n",
       "50%       70006.000000\n",
       "75%       87982.000000\n",
       "max      534451.000000\n",
       "Name: Household_income, dtype: float64"
      ]
     },
     "execution_count": 4,
     "metadata": {},
     "output_type": "execute_result"
    }
   ],
   "source": [
    "df_income[\"Household_income\"].describe()"
   ]
  },
  {
   "cell_type": "markdown",
   "id": "67112e8e-1006-4fff-adb1-d0b25daa26a0",
   "metadata": {},
   "source": [
    "## Income by Type Data:"
   ]
  },
  {
   "cell_type": "code",
   "execution_count": 5,
   "id": "bb02280f-08de-46d4-81d8-fe1a5f905772",
   "metadata": {},
   "outputs": [
    {
     "name": "stderr",
     "output_type": "stream",
     "text": [
      "/home/ubuntu/.local/lib/python3.8/site-packages/IPython/core/interactiveshell.py:3441: DtypeWarning: Columns (2,3,4,5,6,7,8,9,10,11,12,13,14,15,16,17,18,19,20,21,22,23,24,25,26,27,28,29,30,31,32,33,34,35,36,37,38,39,40,41,42,43,44,45,46,47,48,49,50,51,52,53,54,55,56,57,58,59,80,81,94,95) have mixed types.Specify dtype option on import or set low_memory=False.\n",
      "  exec(code_obj, self.user_global_ns, self.user_ns)\n"
     ]
    }
   ],
   "source": [
    "df2 = pd.read_csv('Census_income_type.csv')\n",
    "df_income_type = df2[['NAME','S1902_C01_001E','S1902_C01_002E','S1902_C01_003E','S1902_C01_004E','S1902_C01_006E','S1902_C01_008E']]\n",
    "df_income_type = df_income_type.drop([0, 0])\n",
    "df_income_type.rename(columns={'NAME': 'ZCTA','S1902_C01_001E': 'AllHouses',\n",
    "                          'S1902_C01_002E': 'AllWithIncome','S1902_C01_003E': 'Wages_Salary','S1902_C01_004E': 'SelfEmployment',\n",
    "                          'S1902_C01_006E': 'SocialSecurity','S1902_C01_008E': 'FoodStamps'}, inplace=True)"
   ]
  },
  {
   "cell_type": "code",
   "execution_count": 6,
   "id": "b546248c-8a02-42a7-b8a3-c31e81b5a0f1",
   "metadata": {},
   "outputs": [],
   "source": [
    "df_income_type[\"AllHouses\"] = df_income_type[\"AllHouses\"].astype(str).astype(float)\n",
    "df_income_type[\"AllWithIncome\"] = df_income_type[\"AllWithIncome\"].astype(str).astype(float)\n",
    "df_income_type[\"Wages_Salary\"] = df_income_type[\"Wages_Salary\"].astype(str).astype(float)\n",
    "df_income_type[\"SelfEmployment\"] = df_income_type[\"SelfEmployment\"].astype(str).astype(float)\n",
    "df_income_type[\"SocialSecurity\"] = df_income_type[\"SocialSecurity\"].astype(str).astype(float)\n",
    "df_income_type[\"FoodStamps\"] = df_income_type[\"FoodStamps\"].astype(str).astype(float)"
   ]
  },
  {
   "cell_type": "code",
   "execution_count": 7,
   "id": "47960074-53b3-4bf1-b9e3-cbd30c724897",
   "metadata": {},
   "outputs": [],
   "source": [
    "# Calculate % of Houses with members on food stamps and add new column to df:\n",
    "stamps_pcnt = df_income_type.FoodStamps/df_income_type.AllHouses\n",
    "df_income_type = df_income_type.merge(stamps_pcnt.to_frame('StampsPcnt'), left_index=True, right_index=True)"
   ]
  },
  {
   "cell_type": "code",
   "execution_count": 8,
   "id": "8e590548-d2b4-49ae-82b0-0d430efb5074",
   "metadata": {},
   "outputs": [
    {
     "data": {
      "text/plain": [
       "count    32519.000000\n",
       "mean         0.125320\n",
       "std          0.112081\n",
       "min          0.000000\n",
       "25%          0.050554\n",
       "50%          0.100610\n",
       "75%          0.168464\n",
       "max          1.000000\n",
       "Name: StampsPcnt, dtype: float64"
      ]
     },
     "execution_count": 8,
     "metadata": {},
     "output_type": "execute_result"
    }
   ],
   "source": [
    "df_income_type['StampsPcnt'].describe()"
   ]
  },
  {
   "cell_type": "markdown",
   "id": "fe47d85d-b0bd-4043-8308-228f1977608b",
   "metadata": {},
   "source": [
    "## Housing Density Data:"
   ]
  },
  {
   "cell_type": "code",
   "execution_count": 9,
   "id": "42f44ea3-ba57-415a-9e15-3b99e5a2218e",
   "metadata": {},
   "outputs": [
    {
     "name": "stderr",
     "output_type": "stream",
     "text": [
      "/home/ubuntu/.local/lib/python3.8/site-packages/IPython/core/interactiveshell.py:3441: DtypeWarning: Columns (2,3,4,5,6,7,8,9,10,11,12,13,14,15,16,17,18,19,20,21,22,23,24,25,26,27,28,29,30,31,32,33,34,35,36,37,38,39,40,41,42,43,44,45,46,47,48,49,50,51,52,53,54,55,56,57,58,59,60,61,62,63,64,65,66,67,68,69,70,71,72,73,74,75,76,77,78,79,154,155,156,157,158,159,160,161,162,163,164,165,166,167,168,169,170,171,172,173,174,175,176,177,178,179,180,181,182,183,184,185,186,187,188,189,190,191,192,193,194,195,196,197,198,199,200,201,202,203,204,205,206,207,208,209,210,211,212,213,214,215,216,217,218,219,220,221,222,223,224,225,226,227,228,229,230,231,306,307,308,309,310,311,312,313,314,315,316,317,318,319,320,321,322,323,324,325,326,327,328,329,330,331,332,333,334,335,336,337,338,339,340,341,342,343,344,345,346,347,348,349,350,351,352,353,354,355,356,357,358,359,360,361,362,363,364,365,366,367,368,369,370,371,372,373,374,375,376,377,378,379,380,381,382,383) have mixed types.Specify dtype option on import or set low_memory=False.\n",
      "  exec(code_obj, self.user_global_ns, self.user_ns)\n"
     ]
    }
   ],
   "source": [
    "df3 = pd.read_csv('CensusHouseholdSize.csv')\n",
    "df_housing = df3[['NAME','S2501_C02_005E','S2501_C02_008E','S2501_C04_005E','S2501_C06_005E']]\n",
    "df_housing = df_housing.drop([0, 0])\n",
    "df_housing.rename(columns={'NAME': 'ZCTA','S2501_C02_005E': 'Total_Prcnt_4_persons',\n",
    "                           'S2501_C02_008E': 'Prcnt_High_Occ','S2501_C04_005E': 'Owner_Prcnt_4_persons',\n",
    "                           'S2501_C06_005E': 'Renter_Prcnt_4_persons',}, inplace=True)"
   ]
  },
  {
   "cell_type": "code",
   "execution_count": 10,
   "id": "549c1989-1b93-4a23-9e03-86bae7caae78",
   "metadata": {},
   "outputs": [],
   "source": [
    "df_housing = df_housing[~df_housing['Total_Prcnt_4_persons'].str.contains(\"-\")]\n",
    "df_housing[\"Total_Prcnt_4_persons\"] = df_housing[\"Total_Prcnt_4_persons\"].astype(str).astype(float)\n",
    "df_housing[\"Prcnt_High_Occ\"] = df_housing[\"Prcnt_High_Occ\"].astype(str).astype(float)\n",
    "df_housing = df_housing[~df_housing['Owner_Prcnt_4_persons'].str.contains(\"-\")]\n",
    "df_housing[\"Owner_Prcnt_4_persons\"] = df_housing[\"Owner_Prcnt_4_persons\"].astype(str).astype(float)\n",
    "df_housing = df_housing[~df_housing['Renter_Prcnt_4_persons'].str.contains(\"-\")]\n",
    "df_housing[\"Renter_Prcnt_4_persons\"] = df_housing[\"Renter_Prcnt_4_persons\"].astype(str).astype(float)"
   ]
  },
  {
   "cell_type": "markdown",
   "id": "1f221b24-dc75-43b1-9d3f-f7a1e59b7e50",
   "metadata": {},
   "source": [
    "## Merge All Dataframes:"
   ]
  },
  {
   "cell_type": "code",
   "execution_count": 11,
   "id": "1e1f1f68-6140-40ab-aa26-af8929b69a79",
   "metadata": {},
   "outputs": [],
   "source": [
    "df_data = pd.merge(df_income, df_income_type, on='ZCTA')\n",
    "df_data = pd.merge(df_data, df_housing, on='ZCTA')"
   ]
  },
  {
   "cell_type": "code",
   "execution_count": 12,
   "id": "5d15788d-7aa5-4ee7-a7f7-68719934618e",
   "metadata": {
    "tags": []
   },
   "outputs": [
    {
     "name": "stderr",
     "output_type": "stream",
     "text": [
      "/tmp/ipykernel_2153/3408874100.py:2: FutureWarning: Dropping of nuisance columns in DataFrame reductions (with 'numeric_only=None') is deprecated; in a future version this will raise TypeError.  Select only valid columns before calling the reduction.\n",
      "  df_data.mean(axis=0)\n"
     ]
    },
    {
     "data": {
      "text/plain": [
       "Household_income          77860.081399\n",
       "Family_income             90534.355079\n",
       "AllHouses                  3975.993339\n",
       "AllWithIncome              3078.623992\n",
       "Wages_Salary               2966.027394\n",
       "SelfEmployment              430.019982\n",
       "SocialSecurity             1245.270872\n",
       "FoodStamps                  503.320632\n",
       "StampsPcnt                    0.125552\n",
       "Total_Prcnt_4_persons        20.940977\n",
       "Prcnt_High_Occ                0.790730\n",
       "Owner_Prcnt_4_persons        20.883622\n",
       "Renter_Prcnt_4_persons       21.378650\n",
       "dtype: float64"
      ]
     },
     "execution_count": 12,
     "metadata": {},
     "output_type": "execute_result"
    }
   ],
   "source": [
    "# Print the means for each column:\n",
    "df_data.mean(axis=0)"
   ]
  },
  {
   "cell_type": "code",
   "execution_count": 13,
   "id": "0f3eff5e-0dbd-4364-a72c-24407cc010a1",
   "metadata": {},
   "outputs": [],
   "source": [
    "# 514 control zip codes\n",
    "control_zip_list = ['10301','10302','10303','10304','10305','10306','10307','10308','10309',\n",
    "                    '10310','10311','10312','10314','10451','10452','10453','10454','10455',\n",
    "                    '10456','10457','10458','10459','10460','10461','10462','10463','10464',\n",
    "                    '10465','10466','10467','10468','10469','10470','10471','10472','10473',\n",
    "                    '10474','10475','10501','10502','10504','10505','10506','10507','10509','10510','10511','10512','10514','10516','10518','10520','10522','10523','10524','10526','10527','10528','10530','10532','10533','10535','10536','10537','10538','10541','10543','10546','10547','10548','10549','10550','10552','10553','10560','10562','10566','10567','10570','10573','10576','10577','10578','10579','10580','10583','10588','10589','10590','10591','10594','10595','10597','10598','10601','10603','10604','10605','10606','10607','10701','10703','10704','10705','10706','10707','10708','10709','10710','10801','10803','10804','10805','10901','10911','10913','10916','10917','10918','10919','10920','10921','10923','10924','10925','10926','10927','10928','10930','10931','10940','10941','10950','10952','10954','10956','10958','10960','10962','10963','10964','10965','10968','10969','10970','10973','10974','10975','10976','10977','10980','10983','10984','10985','10986','10987','10989','10990','10992','10993','10994','10996','10998','11001','11003','11004','11005','11010','11020','11021','11023','11024','11030','11040','11042','11050','11096','11101','11102','11103','11104','11105','11106','11109','11201','11203','11204','11205','11206','11207','11208','11209','11210','11211','11212','11213','11214','11215','11216','11217','11218','11219','11220','11221','11222','11223','11224','11225','11226','11228','11229','11230','11231','11232','11233','11234','11235','11236','11237','11238','11239','11240','11241','11242','11243','11249','11252','11256','11351','11354','11355','11356','11357','11358','11359','11360','11361','11362','11363','11364','11365','11366','11367','11368','11369','11370','11371','11372','11373','11374','11375','11377','11378','11379','11385','11411','11412','11413','11414','11415','11416','11417','11418','11419','11420','11421','11422','11423','11426','11427','11428','11429','11430','11432','11433','11434','11435','11436','11501','11507','11509','11510','11514','11516','11518','11520','11530','11542','11545','11548','11550','11552','11553','11554','11556','11557','11558','11559','11560','11561','11563','11565','11566','11568','11570','11572','11575','11576','11577','11579','11580','11581','11590','11596','11598','11599','11691','11692','11693','11694','11697','11709','11710','11714','11732','11735','11737','11753','11756','11758','11762','11765','11771','11783','11791','11793','11797','11801','11803','11804','12518','12520','12543','12549','12550','12553','12563','12575','12577','12586','12729','12746','12771','12780','07001','07008','07016','07023','07027','07033','07036','07060','07062','07063','07064','07065','07066','07067','07076','07077','07080','07081','07083','07088','07090','07092','07095','07201','07202','07203','07204','07205','07206','07208','07701','07702','07703','07704','07711','07712','07716','07717','07718','07719','07720','07721','07722','07723','07724','07726','07727','07728','07730','07731','07732','07733','07734','07735','07737','07738','07739','07740','07746','07747','07748','07750','07751','07753','07755','07756','07757','07758','07760','07762','07764','07799','07901','07922','07974','08005','08008','08037','08050','08087','08092','08201','08203','08205','08215','08221','08225','08232','08234','08241','08244','08310','08317','08319','08326','08330','08340','08341','08346','08350','08401','08402','08403','08406','08501','08510','08512','08514','08520','08525','08527','08533','08534','08535','08536','08540','08542','08550','08560','08608','08609','08610','08611','08618','08619','08620','08628','08629','08638','08648','08690','08691','08701','08721','08722','08723','08724','08730','08731','08733','08734','08735','08736','08738','08741','08742','08750','08751','08752','08753','08755','08757','08758','08759','08810','08812','08816','08817','08820','08824','08828','08830','08831','08832','08837','08840','08846','08850','08852','08854','08857','08859','08861','08863','08872','08879','08882','08884','08899','08901','08902','08904']\n",
    "df_control  = df_data[df_data.ZCTA.str.contains('|'.join(control_zip_list ))]"
   ]
  },
  {
   "cell_type": "code",
   "execution_count": 14,
   "id": "5d32f3aa-4570-4983-a36d-0e5aefd268cf",
   "metadata": {},
   "outputs": [
    {
     "name": "stderr",
     "output_type": "stream",
     "text": [
      "/tmp/ipykernel_2153/3801994383.py:1: FutureWarning: Dropping of nuisance columns in DataFrame reductions (with 'numeric_only=None') is deprecated; in a future version this will raise TypeError.  Select only valid columns before calling the reduction.\n",
      "  df_data.mean(axis=0)\n"
     ]
    },
    {
     "data": {
      "text/plain": [
       "Household_income          77860.081399\n",
       "Family_income             90534.355079\n",
       "AllHouses                  3975.993339\n",
       "AllWithIncome              3078.623992\n",
       "Wages_Salary               2966.027394\n",
       "SelfEmployment              430.019982\n",
       "SocialSecurity             1245.270872\n",
       "FoodStamps                  503.320632\n",
       "StampsPcnt                    0.125552\n",
       "Total_Prcnt_4_persons        20.940977\n",
       "Prcnt_High_Occ                0.790730\n",
       "Owner_Prcnt_4_persons        20.883622\n",
       "Renter_Prcnt_4_persons       21.378650\n",
       "dtype: float64"
      ]
     },
     "execution_count": 14,
     "metadata": {},
     "output_type": "execute_result"
    }
   ],
   "source": [
    "df_data.mean(axis=0)"
   ]
  },
  {
   "cell_type": "code",
   "execution_count": 15,
   "id": "43ebdca1-4579-4a9e-83e0-ebab9fe43488",
   "metadata": {},
   "outputs": [
    {
     "name": "stderr",
     "output_type": "stream",
     "text": [
      "/tmp/ipykernel_2153/3969189897.py:1: FutureWarning: Dropping of nuisance columns in DataFrame reductions (with 'numeric_only=None') is deprecated; in a future version this will raise TypeError.  Select only valid columns before calling the reduction.\n",
      "  df_control.mean(axis=0)\n"
     ]
    },
    {
     "data": {
      "text/plain": [
       "Household_income          126466.898833\n",
       "Family_income             145024.933852\n",
       "AllHouses                   9034.359922\n",
       "AllWithIncome               7105.782101\n",
       "Wages_Salary                6888.235409\n",
       "SelfEmployment               915.618677\n",
       "SocialSecurity              2722.221790\n",
       "FoodStamps                  1392.484436\n",
       "StampsPcnt                     0.100098\n",
       "Total_Prcnt_4_persons         27.567510\n",
       "Prcnt_High_Occ                 1.378599\n",
       "Owner_Prcnt_4_persons         29.822957\n",
       "Renter_Prcnt_4_persons        23.714397\n",
       "dtype: float64"
      ]
     },
     "execution_count": 15,
     "metadata": {},
     "output_type": "execute_result"
    }
   ],
   "source": [
    "df_control.mean(axis=0)"
   ]
  },
  {
   "cell_type": "code",
   "execution_count": 16,
   "id": "50dc321e-450a-4277-9e39-bec5af51e85f",
   "metadata": {},
   "outputs": [
    {
     "data": {
      "text/plain": [
       "count     30627.000000\n",
       "mean      90534.355079\n",
       "std       41094.303378\n",
       "min       11716.000000\n",
       "25%       66751.000000\n",
       "50%       81042.000000\n",
       "75%      101575.500000\n",
       "max      594571.000000\n",
       "Name: Family_income, dtype: float64"
      ]
     },
     "execution_count": 16,
     "metadata": {},
     "output_type": "execute_result"
    }
   ],
   "source": [
    "df_data['Family_income'].describe()"
   ]
  },
  {
   "cell_type": "code",
   "execution_count": 17,
   "id": "18e55b6c-15c5-4533-a471-455478cbc011",
   "metadata": {},
   "outputs": [
    {
     "data": {
      "text/plain": [
       "count       514.000000\n",
       "mean     145024.933852\n",
       "std       67016.722883\n",
       "min       44362.000000\n",
       "25%       99844.250000\n",
       "50%      130173.000000\n",
       "75%      173036.500000\n",
       "max      515591.000000\n",
       "Name: Family_income, dtype: float64"
      ]
     },
     "execution_count": 17,
     "metadata": {},
     "output_type": "execute_result"
    }
   ],
   "source": [
    "df_control['Family_income'].describe()"
   ]
  },
  {
   "cell_type": "code",
   "execution_count": 18,
   "id": "aa613f25-c9ba-4a05-9e4c-b717b05a4696",
   "metadata": {},
   "outputs": [
    {
     "data": {
      "text/plain": [
       "count     30627.000000\n",
       "mean      77860.081399\n",
       "std       34176.646169\n",
       "min       10663.000000\n",
       "25%       57703.500000\n",
       "50%       70030.000000\n",
       "75%       87829.000000\n",
       "max      511713.000000\n",
       "Name: Household_income, dtype: float64"
      ]
     },
     "execution_count": 18,
     "metadata": {},
     "output_type": "execute_result"
    }
   ],
   "source": [
    "df_data['Household_income'].describe()"
   ]
  },
  {
   "cell_type": "code",
   "execution_count": 19,
   "id": "3b41094f-37ef-496a-9e7d-25ab5775042d",
   "metadata": {},
   "outputs": [
    {
     "data": {
      "text/plain": [
       "count    30627.000000\n",
       "mean         0.125552\n",
       "std          0.100047\n",
       "min          0.000000\n",
       "25%          0.055354\n",
       "50%          0.103279\n",
       "75%          0.168831\n",
       "max          0.911111\n",
       "Name: StampsPcnt, dtype: float64"
      ]
     },
     "execution_count": 19,
     "metadata": {},
     "output_type": "execute_result"
    }
   ],
   "source": [
    "df_data['StampsPcnt'].describe()"
   ]
  },
  {
   "cell_type": "code",
   "execution_count": 20,
   "id": "eedd69e3-e74e-4406-89aa-c2435f681a96",
   "metadata": {},
   "outputs": [
    {
     "data": {
      "text/plain": [
       "count    514.000000\n",
       "mean       0.100098\n",
       "std        0.104028\n",
       "min        0.000000\n",
       "25%        0.031544\n",
       "50%        0.060357\n",
       "75%        0.135254\n",
       "max        0.537791\n",
       "Name: StampsPcnt, dtype: float64"
      ]
     },
     "execution_count": 20,
     "metadata": {},
     "output_type": "execute_result"
    }
   ],
   "source": [
    "df_control['StampsPcnt'].describe()"
   ]
  },
  {
   "cell_type": "code",
   "execution_count": 21,
   "id": "71d0cd9b-740d-4bd4-90df-0a87481f5fba",
   "metadata": {},
   "outputs": [
    {
     "name": "stderr",
     "output_type": "stream",
     "text": [
      "/tmp/ipykernel_2153/3218624053.py:2: FutureWarning: Dropping of nuisance columns in DataFrame reductions (with 'numeric_only=None') is deprecated; in a future version this will raise TypeError.  Select only valid columns before calling the reduction.\n",
      "  toms.mean(axis=0)\n"
     ]
    },
    {
     "data": {
      "text/plain": [
       "Household_income          72476.000000\n",
       "Family_income             82148.000000\n",
       "AllHouses                 20712.000000\n",
       "AllWithIncome             15623.000000\n",
       "Wages_Salary              15163.000000\n",
       "SelfEmployment             1938.000000\n",
       "SocialSecurity             5140.000000\n",
       "FoodStamps                 7576.000000\n",
       "StampsPcnt                    0.365778\n",
       "Total_Prcnt_4_persons        33.000000\n",
       "Prcnt_High_Occ                3.500000\n",
       "Owner_Prcnt_4_persons        44.900000\n",
       "Renter_Prcnt_4_persons       29.500000\n",
       "dtype: float64"
      ]
     },
     "execution_count": 21,
     "metadata": {},
     "output_type": "execute_result"
    }
   ],
   "source": [
    "toms = df_data[df_data.ZCTA.str.contains('11691')]\n",
    "toms.mean(axis=0)"
   ]
  }
 ],
 "metadata": {
  "kernelspec": {
   "display_name": "Python 3 (ipykernel)",
   "language": "python",
   "name": "python3"
  },
  "language_info": {
   "codemirror_mode": {
    "name": "ipython",
    "version": 3
   },
   "file_extension": ".py",
   "mimetype": "text/x-python",
   "name": "python",
   "nbconvert_exporter": "python",
   "pygments_lexer": "ipython3",
   "version": "3.8.10"
  }
 },
 "nbformat": 4,
 "nbformat_minor": 5
}
