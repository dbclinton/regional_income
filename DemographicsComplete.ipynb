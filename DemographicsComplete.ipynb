{
 "cells": [
  {
   "cell_type": "code",
   "execution_count": 1,
   "id": "76b1e9fc-1439-4372-8244-2f403b779400",
   "metadata": {},
   "outputs": [],
   "source": [
    "import pandas as pd"
   ]
  },
  {
   "cell_type": "markdown",
   "id": "319912eb-1f2a-4f7a-8901-86226bc6299a",
   "metadata": {},
   "source": [
    "## Family Income Data (2019 ACS):"
   ]
  },
  {
   "cell_type": "code",
   "execution_count": 2,
   "id": "d4b8c916-21e5-49d3-abea-9f8e69d5b602",
   "metadata": {},
   "outputs": [
    {
     "name": "stderr",
     "output_type": "stream",
     "text": [
      "/home/ubuntu/.local/lib/python3.8/site-packages/IPython/core/interactiveshell.py:3441: DtypeWarning: Columns (2,3,34,35,66,67,98,99) have mixed types.Specify dtype option on import or set low_memory=False.\n",
      "  exec(code_obj, self.user_global_ns, self.user_ns)\n"
     ]
    }
   ],
   "source": [
    "df1 = pd.read_csv('CensusIncome.csv')\n",
    "# Select and rename columns of interest:\n",
    "df_income = df1[['NAME','S1901_C01_013E','S1901_C02_013E']]\n",
    "df_income = df_income.drop([0, 0])\n",
    "df_income.rename(columns={'NAME': 'ZCTA','S1901_C01_013E': 'Household_income',\n",
    "                          'S1901_C02_013E': 'Family_income'}, inplace=True)"
   ]
  },
  {
   "cell_type": "code",
   "execution_count": 3,
   "id": "ba4361e4-7ed9-4c47-b1a0-65a670c98e68",
   "metadata": {},
   "outputs": [
    {
     "data": {
      "text/plain": [
       "count     31435.000000\n",
       "mean      90489.174201\n",
       "std       41463.700939\n",
       "min        6461.000000\n",
       "25%       66537.000000\n",
       "50%       80938.000000\n",
       "75%      101635.000000\n",
       "max      594571.000000\n",
       "Name: Family_income, dtype: float64"
      ]
     },
     "execution_count": 3,
     "metadata": {},
     "output_type": "execute_result"
    }
   ],
   "source": [
    "df_income = df_income[~df_income['Household_income'].str.contains(\"N\")]\n",
    "df_income = df_income[~df_income['Household_income'].str.contains(\"-\")]\n",
    "df_income[\"Household_income\"] = df_income[\"Household_income\"].astype(str).astype(float)\n",
    "df_income = df_income[~df_income['Family_income'].str.contains(\"N\")]\n",
    "df_income = df_income[~df_income['Family_income'].str.contains(\"-\")]\n",
    "df_income[\"Family_income\"] = df_income[\"Family_income\"].astype(str).astype(float)\n",
    "df_income[\"Family_income\"].describe()"
   ]
  },
  {
   "cell_type": "code",
   "execution_count": 4,
   "id": "9162b41d-e347-4fd4-9277-22e8c901f7a7",
   "metadata": {},
   "outputs": [
    {
     "data": {
      "text/plain": [
       "count     31435.000000\n",
       "mean      77907.536949\n",
       "std       34622.791868\n",
       "min        7293.000000\n",
       "25%       57577.500000\n",
       "50%       70006.000000\n",
       "75%       87982.000000\n",
       "max      534451.000000\n",
       "Name: Household_income, dtype: float64"
      ]
     },
     "execution_count": 4,
     "metadata": {},
     "output_type": "execute_result"
    }
   ],
   "source": [
    "df_income[\"Household_income\"].describe()"
   ]
  },
  {
   "cell_type": "markdown",
   "id": "67112e8e-1006-4fff-adb1-d0b25daa26a0",
   "metadata": {},
   "source": [
    "## Income by Type Data:"
   ]
  },
  {
   "cell_type": "code",
   "execution_count": 5,
   "id": "bb02280f-08de-46d4-81d8-fe1a5f905772",
   "metadata": {},
   "outputs": [
    {
     "name": "stderr",
     "output_type": "stream",
     "text": [
      "/home/ubuntu/.local/lib/python3.8/site-packages/IPython/core/interactiveshell.py:3441: DtypeWarning: Columns (2,3,4,5,6,7,8,9,10,11,12,13,14,15,16,17,18,19,20,21,22,23,24,25,26,27,28,29,30,31,32,33,34,35,36,37,38,39,40,41,42,43,44,45,46,47,48,49,50,51,52,53,54,55,56,57,58,59,80,81,94,95) have mixed types.Specify dtype option on import or set low_memory=False.\n",
      "  exec(code_obj, self.user_global_ns, self.user_ns)\n"
     ]
    }
   ],
   "source": [
    "df2 = pd.read_csv('Census_income_type.csv')\n",
    "df_income_type = df2[['NAME','S1902_C01_001E','S1902_C01_002E','S1902_C01_003E','S1902_C01_004E','S1902_C01_006E','S1902_C01_008E']]\n",
    "df_income_type = df_income_type.drop([0, 0])\n",
    "df_income_type.rename(columns={'NAME': 'ZCTA','S1902_C01_001E': 'AllHouses',\n",
    "                          'S1902_C01_002E': 'AllWithIncome','S1902_C01_003E': 'Wages_Salary','S1902_C01_004E': 'SelfEmployment',\n",
    "                          'S1902_C01_006E': 'SocialSecurity','S1902_C01_008E': 'FoodStamps'}, inplace=True)"
   ]
  },
  {
   "cell_type": "code",
   "execution_count": 6,
   "id": "b546248c-8a02-42a7-b8a3-c31e81b5a0f1",
   "metadata": {},
   "outputs": [],
   "source": [
    "df_income_type[\"AllHouses\"] = df_income_type[\"AllHouses\"].astype(str).astype(float)\n",
    "df_income_type[\"AllWithIncome\"] = df_income_type[\"AllWithIncome\"].astype(str).astype(float)\n",
    "df_income_type[\"Wages_Salary\"] = df_income_type[\"Wages_Salary\"].astype(str).astype(float)\n",
    "df_income_type[\"SelfEmployment\"] = df_income_type[\"SelfEmployment\"].astype(str).astype(float)\n",
    "df_income_type[\"SocialSecurity\"] = df_income_type[\"SocialSecurity\"].astype(str).astype(float)\n",
    "df_income_type[\"FoodStamps\"] = df_income_type[\"FoodStamps\"].astype(str).astype(float)"
   ]
  },
  {
   "cell_type": "code",
   "execution_count": 7,
   "id": "47960074-53b3-4bf1-b9e3-cbd30c724897",
   "metadata": {},
   "outputs": [],
   "source": [
    "# Calculate % of Houses with members on food stamps and add new column to df:\n",
    "stamps_pcnt = df_income_type.FoodStamps/df_income_type.AllHouses\n",
    "df_income_type = df_income_type.merge(stamps_pcnt.to_frame('StampsPcnt'), left_index=True, right_index=True)"
   ]
  },
  {
   "cell_type": "code",
   "execution_count": 8,
   "id": "8e590548-d2b4-49ae-82b0-0d430efb5074",
   "metadata": {},
   "outputs": [
    {
     "data": {
      "text/plain": [
       "count    32519.000000\n",
       "mean         0.125320\n",
       "std          0.112081\n",
       "min          0.000000\n",
       "25%          0.050554\n",
       "50%          0.100610\n",
       "75%          0.168464\n",
       "max          1.000000\n",
       "Name: StampsPcnt, dtype: float64"
      ]
     },
     "execution_count": 8,
     "metadata": {},
     "output_type": "execute_result"
    }
   ],
   "source": [
    "df_income_type['StampsPcnt'].describe()"
   ]
  },
  {
   "cell_type": "markdown",
   "id": "fe47d85d-b0bd-4043-8308-228f1977608b",
   "metadata": {},
   "source": [
    "## Housing Density Data:"
   ]
  },
  {
   "cell_type": "code",
   "execution_count": 9,
   "id": "42f44ea3-ba57-415a-9e15-3b99e5a2218e",
   "metadata": {},
   "outputs": [
    {
     "name": "stderr",
     "output_type": "stream",
     "text": [
      "/home/ubuntu/.local/lib/python3.8/site-packages/IPython/core/interactiveshell.py:3441: DtypeWarning: Columns (2,3,4,5,6,7,8,9,10,11,12,13,14,15,16,17,18,19,20,21,22,23,24,25,26,27,28,29,30,31,32,33,34,35,36,37,38,39,40,41,42,43,44,45,46,47,48,49,50,51,52,53,54,55,56,57,58,59,60,61,62,63,64,65,66,67,68,69,70,71,72,73,74,75,76,77,78,79,154,155,156,157,158,159,160,161,162,163,164,165,166,167,168,169,170,171,172,173,174,175,176,177,178,179,180,181,182,183,184,185,186,187,188,189,190,191,192,193,194,195,196,197,198,199,200,201,202,203,204,205,206,207,208,209,210,211,212,213,214,215,216,217,218,219,220,221,222,223,224,225,226,227,228,229,230,231,306,307,308,309,310,311,312,313,314,315,316,317,318,319,320,321,322,323,324,325,326,327,328,329,330,331,332,333,334,335,336,337,338,339,340,341,342,343,344,345,346,347,348,349,350,351,352,353,354,355,356,357,358,359,360,361,362,363,364,365,366,367,368,369,370,371,372,373,374,375,376,377,378,379,380,381,382,383) have mixed types.Specify dtype option on import or set low_memory=False.\n",
      "  exec(code_obj, self.user_global_ns, self.user_ns)\n"
     ]
    }
   ],
   "source": [
    "df3 = pd.read_csv('CensusHouseholdSize.csv')\n",
    "df_housing = df3[['NAME','S2501_C02_005E','S2501_C02_008E','S2501_C04_005E','S2501_C06_005E']]\n",
    "df_housing = df_housing.drop([0, 0])\n",
    "df_housing.rename(columns={'NAME': 'ZCTA','S2501_C02_005E': 'Total_Prcnt_4_persons',\n",
    "                           'S2501_C02_008E': 'Prcnt_High_Occ','S2501_C04_005E': 'Owner_Prcnt_4_persons',\n",
    "                           'S2501_C06_005E': 'Renter_Prcnt_4_persons',}, inplace=True)"
   ]
  },
  {
   "cell_type": "code",
   "execution_count": 10,
   "id": "549c1989-1b93-4a23-9e03-86bae7caae78",
   "metadata": {},
   "outputs": [],
   "source": [
    "df_housing = df_housing[~df_housing['Total_Prcnt_4_persons'].str.contains(\"-\")]\n",
    "df_housing[\"Total_Prcnt_4_persons\"] = df_housing[\"Total_Prcnt_4_persons\"].astype(str).astype(float)\n",
    "df_housing[\"Prcnt_High_Occ\"] = df_housing[\"Prcnt_High_Occ\"].astype(str).astype(float)\n",
    "df_housing = df_housing[~df_housing['Owner_Prcnt_4_persons'].str.contains(\"-\")]\n",
    "df_housing[\"Owner_Prcnt_4_persons\"] = df_housing[\"Owner_Prcnt_4_persons\"].astype(str).astype(float)\n",
    "df_housing = df_housing[~df_housing['Renter_Prcnt_4_persons'].str.contains(\"-\")]\n",
    "df_housing[\"Renter_Prcnt_4_persons\"] = df_housing[\"Renter_Prcnt_4_persons\"].astype(str).astype(float)"
   ]
  },
  {
   "cell_type": "markdown",
   "id": "1f221b24-dc75-43b1-9d3f-f7a1e59b7e50",
   "metadata": {},
   "source": [
    "## Merge All Dataframes:"
   ]
  },
  {
   "cell_type": "code",
   "execution_count": 11,
   "id": "1e1f1f68-6140-40ab-aa26-af8929b69a79",
   "metadata": {},
   "outputs": [],
   "source": [
    "df_data = pd.merge(df_income, df_income_type, on='ZCTA')\n",
    "df_data = pd.merge(df_data, df_housing, on='ZCTA')"
   ]
  },
  {
   "cell_type": "code",
   "execution_count": 12,
   "id": "5d15788d-7aa5-4ee7-a7f7-68719934618e",
   "metadata": {
    "tags": []
   },
   "outputs": [
    {
     "name": "stderr",
     "output_type": "stream",
     "text": [
      "/tmp/ipykernel_2137/3408874100.py:2: FutureWarning: Dropping of nuisance columns in DataFrame reductions (with 'numeric_only=None') is deprecated; in a future version this will raise TypeError.  Select only valid columns before calling the reduction.\n",
      "  df_data.mean(axis=0)\n"
     ]
    },
    {
     "data": {
      "text/plain": [
       "Household_income          77860.081399\n",
       "Family_income             90534.355079\n",
       "AllHouses                  3975.993339\n",
       "AllWithIncome              3078.623992\n",
       "Wages_Salary               2966.027394\n",
       "SelfEmployment              430.019982\n",
       "SocialSecurity             1245.270872\n",
       "FoodStamps                  503.320632\n",
       "StampsPcnt                    0.125552\n",
       "Total_Prcnt_4_persons        20.940977\n",
       "Prcnt_High_Occ                0.790730\n",
       "Owner_Prcnt_4_persons        20.883622\n",
       "Renter_Prcnt_4_persons       21.378650\n",
       "dtype: float64"
      ]
     },
     "execution_count": 12,
     "metadata": {},
     "output_type": "execute_result"
    }
   ],
   "source": [
    "# Print the means for each column:\n",
    "df_data.mean(axis=0)"
   ]
  },
  {
   "cell_type": "code",
   "execution_count": 13,
   "id": "0f3eff5e-0dbd-4364-a72c-24407cc010a1",
   "metadata": {},
   "outputs": [],
   "source": [
    "zip_list = ['08701','08527','08753','11204','11219','11230','10952','10977','10950','10977','11367','11691','11374']\n",
    "df_frum  = df_data[df_data.ZCTA.str.contains('|'.join(zip_list ))]"
   ]
  },
  {
   "cell_type": "code",
   "execution_count": 14,
   "id": "43ebdca1-4579-4a9e-83e0-ebab9fe43488",
   "metadata": {},
   "outputs": [
    {
     "name": "stderr",
     "output_type": "stream",
     "text": [
      "/tmp/ipykernel_2137/187230765.py:1: FutureWarning: Dropping of nuisance columns in DataFrame reductions (with 'numeric_only=None') is deprecated; in a future version this will raise TypeError.  Select only valid columns before calling the reduction.\n",
      "  df_frum.mean(axis=0)\n"
     ]
    },
    {
     "data": {
      "text/plain": [
       "Household_income          85280.583333\n",
       "Family_income             94465.333333\n",
       "AllHouses                 19810.250000\n",
       "AllWithIncome             15768.250000\n",
       "Wages_Salary              15222.250000\n",
       "SelfEmployment             2064.750000\n",
       "SocialSecurity             5613.583333\n",
       "FoodStamps                 4279.666667\n",
       "StampsPcnt                    0.215275\n",
       "Total_Prcnt_4_persons        36.100000\n",
       "Prcnt_High_Occ                4.050000\n",
       "Owner_Prcnt_4_persons        36.191667\n",
       "Renter_Prcnt_4_persons       36.466667\n",
       "dtype: float64"
      ]
     },
     "execution_count": 14,
     "metadata": {},
     "output_type": "execute_result"
    }
   ],
   "source": [
    "df_frum.mean(axis=0)"
   ]
  },
  {
   "cell_type": "code",
   "execution_count": 15,
   "id": "18e55b6c-15c5-4533-a471-455478cbc011",
   "metadata": {},
   "outputs": [
    {
     "data": {
      "text/plain": [
       "count        12.000000\n",
       "mean      94465.333333\n",
       "std       16198.315795\n",
       "min       64222.000000\n",
       "25%       81918.750000\n",
       "50%       93791.000000\n",
       "75%      102906.500000\n",
       "max      122428.000000\n",
       "Name: Family_income, dtype: float64"
      ]
     },
     "execution_count": 15,
     "metadata": {},
     "output_type": "execute_result"
    }
   ],
   "source": [
    "df_frum['Family_income'].describe()"
   ]
  },
  {
   "cell_type": "code",
   "execution_count": 16,
   "id": "aa613f25-c9ba-4a05-9e4c-b717b05a4696",
   "metadata": {},
   "outputs": [
    {
     "data": {
      "text/plain": [
       "count     30627.000000\n",
       "mean      77860.081399\n",
       "std       34176.646169\n",
       "min       10663.000000\n",
       "25%       57703.500000\n",
       "50%       70030.000000\n",
       "75%       87829.000000\n",
       "max      511713.000000\n",
       "Name: Household_income, dtype: float64"
      ]
     },
     "execution_count": 16,
     "metadata": {},
     "output_type": "execute_result"
    }
   ],
   "source": [
    "df_data['Household_income'].describe()"
   ]
  },
  {
   "cell_type": "code",
   "execution_count": 17,
   "id": "3b41094f-37ef-496a-9e7d-25ab5775042d",
   "metadata": {},
   "outputs": [
    {
     "data": {
      "text/plain": [
       "count    30627.000000\n",
       "mean         0.125552\n",
       "std          0.100047\n",
       "min          0.000000\n",
       "25%          0.055354\n",
       "50%          0.103279\n",
       "75%          0.168831\n",
       "max          0.911111\n",
       "Name: StampsPcnt, dtype: float64"
      ]
     },
     "execution_count": 17,
     "metadata": {},
     "output_type": "execute_result"
    }
   ],
   "source": [
    "df_data['StampsPcnt'].describe()"
   ]
  },
  {
   "cell_type": "code",
   "execution_count": 18,
   "id": "eedd69e3-e74e-4406-89aa-c2435f681a96",
   "metadata": {},
   "outputs": [
    {
     "data": {
      "text/plain": [
       "count    12.000000\n",
       "mean      0.215275\n",
       "std       0.102222\n",
       "min       0.042131\n",
       "25%       0.157144\n",
       "50%       0.236438\n",
       "75%       0.261292\n",
       "max       0.365778\n",
       "Name: StampsPcnt, dtype: float64"
      ]
     },
     "execution_count": 18,
     "metadata": {},
     "output_type": "execute_result"
    }
   ],
   "source": [
    "df_frum['StampsPcnt'].describe()"
   ]
  },
  {
   "cell_type": "code",
   "execution_count": 19,
   "id": "71d0cd9b-740d-4bd4-90df-0a87481f5fba",
   "metadata": {},
   "outputs": [
    {
     "name": "stderr",
     "output_type": "stream",
     "text": [
      "/tmp/ipykernel_2137/3218624053.py:2: FutureWarning: Dropping of nuisance columns in DataFrame reductions (with 'numeric_only=None') is deprecated; in a future version this will raise TypeError.  Select only valid columns before calling the reduction.\n",
      "  toms.mean(axis=0)\n"
     ]
    },
    {
     "data": {
      "text/plain": [
       "Household_income          72476.000000\n",
       "Family_income             82148.000000\n",
       "AllHouses                 20712.000000\n",
       "AllWithIncome             15623.000000\n",
       "Wages_Salary              15163.000000\n",
       "SelfEmployment             1938.000000\n",
       "SocialSecurity             5140.000000\n",
       "FoodStamps                 7576.000000\n",
       "StampsPcnt                    0.365778\n",
       "Total_Prcnt_4_persons        33.000000\n",
       "Prcnt_High_Occ                3.500000\n",
       "Owner_Prcnt_4_persons        44.900000\n",
       "Renter_Prcnt_4_persons       29.500000\n",
       "dtype: float64"
      ]
     },
     "execution_count": 19,
     "metadata": {},
     "output_type": "execute_result"
    }
   ],
   "source": [
    "toms = df_data[df_data.ZCTA.str.contains('11691')]\n",
    "toms.mean(axis=0)"
   ]
  }
 ],
 "metadata": {
  "kernelspec": {
   "display_name": "Python 3 (ipykernel)",
   "language": "python",
   "name": "python3"
  },
  "language_info": {
   "codemirror_mode": {
    "name": "ipython",
    "version": 3
   },
   "file_extension": ".py",
   "mimetype": "text/x-python",
   "name": "python",
   "nbconvert_exporter": "python",
   "pygments_lexer": "ipython3",
   "version": "3.8.10"
  }
 },
 "nbformat": 4,
 "nbformat_minor": 5
}
